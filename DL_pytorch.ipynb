{
  "nbformat": 4,
  "nbformat_minor": 0,
  "metadata": {
    "colab": {
      "provenance": [],
      "gpuType": "T4",
      "authorship_tag": "ABX9TyPXAG9jEhnuZFaN2o9SNYIz",
      "include_colab_link": true
    },
    "kernelspec": {
      "name": "python3",
      "display_name": "Python 3"
    },
    "language_info": {
      "name": "python"
    },
    "accelerator": "GPU"
  },
  "cells": [
    {
      "cell_type": "markdown",
      "metadata": {
        "id": "view-in-github",
        "colab_type": "text"
      },
      "source": [
        "<a href=\"https://colab.research.google.com/github/hut22929/pytorch-deep-learning/blob/master/DL_pytorch.ipynb\" target=\"_parent\"><img src=\"https://colab.research.google.com/assets/colab-badge.svg\" alt=\"Open In Colab\"/></a>"
      ]
    },
    {
      "cell_type": "code",
      "execution_count": null,
      "metadata": {
        "colab": {
          "base_uri": "https://localhost:8080/"
        },
        "id": "pe-BDZmAj4LE",
        "outputId": "1221352c-25ae-453f-abbe-a9adfdda433f"
      },
      "outputs": [
        {
          "output_type": "execute_result",
          "data": {
            "text/plain": [
              "4"
            ]
          },
          "metadata": {},
          "execution_count": 2
        }
      ],
      "source": [
        "2+2"
      ]
    },
    {
      "cell_type": "code",
      "source": [
        "!pip list"
      ],
      "metadata": {
        "id": "E6-36kQIvOD5"
      },
      "execution_count": null,
      "outputs": []
    },
    {
      "cell_type": "code",
      "source": [
        "import torch\n",
        "import numpy as np"
      ],
      "metadata": {
        "id": "nMfOTv0v0HcC"
      },
      "execution_count": 2,
      "outputs": []
    },
    {
      "cell_type": "code",
      "source": [
        "tensor2d = torch.randn(3,4)\n",
        "tensor2d\n"
      ],
      "metadata": {
        "id": "bplaIsHO09Rb",
        "outputId": "7e32ec5f-3ad0-44ce-95d4-b1eb3b425129",
        "colab": {
          "base_uri": "https://localhost:8080/"
        }
      },
      "execution_count": null,
      "outputs": [
        {
          "output_type": "execute_result",
          "data": {
            "text/plain": [
              "tensor([[ 2.0690, -0.2719, -0.8715,  1.0630],\n",
              "        [ 1.6949, -0.5582,  0.1093,  0.0229],\n",
              "        [-0.6036, -3.1671, -0.5988,  1.7621]])"
            ]
          },
          "metadata": {},
          "execution_count": 2
        }
      ]
    },
    {
      "cell_type": "code",
      "source": [
        "tensor3d = torch.randn(3,4,5)\n",
        "tensor3d.dtype"
      ],
      "metadata": {
        "id": "jSBxLkUR1GmS",
        "outputId": "73264f15-dc30-42fb-829c-28a0e6b95e03",
        "colab": {
          "base_uri": "https://localhost:8080/"
        }
      },
      "execution_count": null,
      "outputs": [
        {
          "output_type": "execute_result",
          "data": {
            "text/plain": [
              "torch.float32"
            ]
          },
          "metadata": {},
          "execution_count": 4
        }
      ]
    },
    {
      "cell_type": "markdown",
      "source": [
        "Tensor Math Operation"
      ],
      "metadata": {
        "id": "T9ievK-JkmXe"
      }
    },
    {
      "cell_type": "code",
      "source": [
        "tensor_a = torch.tensor([1,2,3,4])\n",
        "tensor_b = torch.tensor([5,6,7,8])"
      ],
      "metadata": {
        "id": "1Jg3v17ykikW"
      },
      "execution_count": 3,
      "outputs": []
    },
    {
      "cell_type": "code",
      "source": [
        "#plus\n",
        "tensor_a + tensor_b\n",
        "torch.add(tensor_a, tensor_b)"
      ],
      "metadata": {
        "id": "eb4-2xPck6YH",
        "outputId": "054802aa-dbba-43ce-db93-dc21635dd8a6",
        "colab": {
          "base_uri": "https://localhost:8080/"
        }
      },
      "execution_count": 5,
      "outputs": [
        {
          "output_type": "execute_result",
          "data": {
            "text/plain": [
              "tensor([ 6,  8, 10, 12])"
            ]
          },
          "metadata": {},
          "execution_count": 5
        }
      ]
    },
    {
      "cell_type": "code",
      "source": [
        "#subtraction\n",
        "tensor_b - tensor_a\n",
        "torch.sub(tensor_b, tensor_a)"
      ],
      "metadata": {
        "id": "31FONSA7k80-",
        "outputId": "c37d1e9d-d0b0-403b-ac80-349e4a5257cc",
        "colab": {
          "base_uri": "https://localhost:8080/"
        }
      },
      "execution_count": 7,
      "outputs": [
        {
          "output_type": "execute_result",
          "data": {
            "text/plain": [
              "tensor([4, 4, 4, 4])"
            ]
          },
          "metadata": {},
          "execution_count": 7
        }
      ]
    },
    {
      "cell_type": "code",
      "source": [
        "# Multiplication\n",
        "\n",
        "a = tensor_a * tensor_b\n",
        "b = torch.mul(tensor_a, tensor_b)\n",
        "print(a,'\\n' ,b)"
      ],
      "metadata": {
        "id": "0znSAx_-laa9",
        "outputId": "7caceced-9cee-42ab-b29e-6ad2b81278e7",
        "colab": {
          "base_uri": "https://localhost:8080/"
        }
      },
      "execution_count": 16,
      "outputs": [
        {
          "output_type": "stream",
          "name": "stdout",
          "text": [
            "tensor([ 5, 12, 21, 32]) \n",
            " tensor([ 5, 12, 21, 32])\n"
          ]
        }
      ]
    },
    {
      "cell_type": "code",
      "source": [
        "# Division\n",
        "tensor_b / tensor_a\n",
        "torch.div(tensor_b, tensor_a)"
      ],
      "metadata": {
        "id": "8m6O1QIYlwbd",
        "outputId": "519a1d9f-61ec-40fa-8948-c1e2b1f93d1e",
        "colab": {
          "base_uri": "https://localhost:8080/"
        }
      },
      "execution_count": 17,
      "outputs": [
        {
          "output_type": "execute_result",
          "data": {
            "text/plain": [
              "tensor([5.0000, 3.0000, 2.3333, 2.0000])"
            ]
          },
          "metadata": {},
          "execution_count": 17
        }
      ]
    },
    {
      "cell_type": "code",
      "source": [
        "# Remainder Modulus\n",
        "tensor_b % tensor_a\n",
        "torch.remainder(tensor_b, tensor_a)"
      ],
      "metadata": {
        "id": "Og6NoqhxmYyf",
        "outputId": "2373650c-f431-4cf5-d7d0-f93f9a44350f",
        "colab": {
          "base_uri": "https://localhost:8080/"
        }
      },
      "execution_count": 19,
      "outputs": [
        {
          "output_type": "execute_result",
          "data": {
            "text/plain": [
              "tensor([0, 0, 1, 0])"
            ]
          },
          "metadata": {},
          "execution_count": 19
        }
      ]
    },
    {
      "cell_type": "code",
      "source": [
        "# Exponent , power\n",
        "tensor_a ** tensor_b\n",
        "torch.pow(tensor_a, tensor_b)\n"
      ],
      "metadata": {
        "id": "nN0F3uw3mnxN",
        "outputId": "4fed6d59-27cd-4353-cc22-950f4f78ebb5",
        "colab": {
          "base_uri": "https://localhost:8080/"
        }
      },
      "execution_count": 20,
      "outputs": [
        {
          "output_type": "execute_result",
          "data": {
            "text/plain": [
              "tensor([    1,    64,  2187, 65536])"
            ]
          },
          "metadata": {},
          "execution_count": 20
        }
      ]
    },
    {
      "cell_type": "code",
      "source": [
        "#Reassigntment\n",
        "tensor_a += tensor_b\n",
        "tensor_a"
      ],
      "metadata": {
        "id": "3uLRMqFBnHyF",
        "outputId": "c83532ff-f708-413a-ccdc-70f18771b3f6",
        "colab": {
          "base_uri": "https://localhost:8080/"
        }
      },
      "execution_count": 21,
      "outputs": [
        {
          "output_type": "execute_result",
          "data": {
            "text/plain": [
              "tensor([ 6,  8, 10, 12])"
            ]
          },
          "metadata": {},
          "execution_count": 21
        }
      ]
    },
    {
      "cell_type": "code",
      "source": [
        "tensor_a **= tensor_b\n",
        "tensor_a"
      ],
      "metadata": {
        "id": "wYGTCMnAnNg1",
        "outputId": "b94710fb-3b0e-4e43-efe3-89ba63048be1",
        "colab": {
          "base_uri": "https://localhost:8080/"
        }
      },
      "execution_count": 24,
      "outputs": [
        {
          "output_type": "execute_result",
          "data": {
            "text/plain": [
              "tensor([ -1024,   4096, -16384,  65536])"
            ]
          },
          "metadata": {},
          "execution_count": 24
        }
      ]
    },
    {
      "cell_type": "code",
      "source": [],
      "metadata": {
        "id": "fZxAEhTZn1T8"
      },
      "execution_count": null,
      "outputs": []
    }
  ]
}